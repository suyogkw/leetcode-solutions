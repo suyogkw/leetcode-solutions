{
 "cells": [
  {
   "cell_type": "code",
   "execution_count": 2,
   "metadata": {},
   "outputs": [],
   "source": [
    "# # Given n non-negative integers a1, a2, ..., an , where each represents a point at coordinate (i, ai). \n",
    "# n vertical lines are drawn such that the two endpoints of the line i is at (i, ai) and (i, 0). \n",
    "# Find two lines, which, together with the x-axis forms a container, such that the container contains the most water.\n",
    "\n",
    "# # Notice that you may not slant the container."
   ]
  },
  {
   "cell_type": "code",
   "execution_count": 3,
   "metadata": {},
   "outputs": [],
   "source": [
    "height = [1,2,1]"
   ]
  },
  {
   "cell_type": "code",
   "execution_count": null,
   "metadata": {},
   "outputs": [],
   "source": []
  },
  {
   "cell_type": "code",
   "execution_count": null,
   "metadata": {},
   "outputs": [],
   "source": []
  },
  {
   "cell_type": "code",
   "execution_count": 4,
   "metadata": {},
   "outputs": [],
   "source": [
    "max_water,a_min=0,0\n",
    "lp,rp=0,len(height)-1\n",
    "l_fix=True\n",
    "while rp>lp:\n",
    "    validity=(height[rp] if l_fix else height[lp])>a_min\n",
    "    if validity:\n",
    "        a_min,l_fix=(height[lp],False) if height[lp]<height[rp] else (height[rp],True)\n",
    "        max_water=max(max_water,(rp-lp)*a_min)\n",
    "        #print(f'max_water {max_water}; a_min {a_min}; lp {lp}; rp {rp}; l_fix {l_fix}')\n",
    "    lp,rp=(lp,rp-1) if l_fix else (lp+1,rp)\n"
   ]
  },
  {
   "cell_type": "code",
   "execution_count": 5,
   "metadata": {},
   "outputs": [
    {
     "output_type": "execute_result",
     "data": {
      "text/plain": [
       "2"
      ]
     },
     "metadata": {},
     "execution_count": 5
    }
   ],
   "source": [
    "max_water"
   ]
  },
  {
   "cell_type": "code",
   "execution_count": 6,
   "metadata": {},
   "outputs": [],
   "source": [
    "import os"
   ]
  },
  {
   "cell_type": "code",
   "execution_count": null,
   "metadata": {},
   "outputs": [],
   "source": []
  },
  {
   "cell_type": "code",
   "execution_count": 7,
   "metadata": {},
   "outputs": [],
   "source": [
    "number = -123450\n"
   ]
  },
  {
   "cell_type": "code",
   "execution_count": null,
   "metadata": {},
   "outputs": [],
   "source": []
  },
  {
   "cell_type": "code",
   "execution_count": 8,
   "metadata": {},
   "outputs": [],
   "source": [
    "negative = -1 if number<0 else 1\n",
    "number = abs(number)\n",
    "reverse=0\n",
    "while number!=0:\n",
    "    reverse=reverse*10+number%10\n",
    "    number//=10\n",
    "reverse*=negative\n",
    "\n",
    "if (reverse > 2 ** 32) or (reverse > (2 ** 32)-1 and not negative):\n",
    "    reverse=0"
   ]
  },
  {
   "cell_type": "code",
   "execution_count": 9,
   "metadata": {},
   "outputs": [
    {
     "output_type": "execute_result",
     "data": {
      "text/plain": [
       "4294967296"
      ]
     },
     "metadata": {},
     "execution_count": 9
    }
   ],
   "source": [
    "2 ** 32"
   ]
  },
  {
   "cell_type": "code",
   "execution_count": 10,
   "metadata": {},
   "outputs": [
    {
     "output_type": "execute_result",
     "data": {
      "text/plain": [
       "1563847412"
      ]
     },
     "metadata": {},
     "execution_count": 10
    }
   ],
   "source": [
    "1563847412"
   ]
  },
  {
   "cell_type": "code",
   "execution_count": 11,
   "metadata": {},
   "outputs": [
    {
     "output_type": "execute_result",
     "data": {
      "text/plain": [
       "True"
      ]
     },
     "metadata": {},
     "execution_count": 11
    }
   ],
   "source": [
    "4294967296>2147483651"
   ]
  },
  {
   "cell_type": "code",
   "execution_count": null,
   "metadata": {},
   "outputs": [],
   "source": []
  },
  {
   "cell_type": "code",
   "execution_count": null,
   "metadata": {},
   "outputs": [],
   "source": []
  }
 ],
 "metadata": {
  "kernelspec": {
   "name": "python373jvsc74a57bd00af457d1c4c0be5f4ee8805515926bec19c150716d26ab9b7c7feeaabb39b92c",
   "display_name": "Python 3.7.3 64-bit"
  },
  "language_info": {
   "codemirror_mode": {
    "name": "ipython",
    "version": 3
   },
   "file_extension": ".py",
   "mimetype": "text/x-python",
   "name": "python",
   "nbconvert_exporter": "python",
   "pygments_lexer": "ipython3",
   "version": "3.7.3"
  }
 },
 "nbformat": 4,
 "nbformat_minor": 4
}