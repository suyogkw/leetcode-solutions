{
 "cells": [
  {
   "cell_type": "code",
   "execution_count": 141,
   "metadata": {},
   "outputs": [],
   "source": [
    "list_l1 = [7,2,4,3]\n",
    "list_l2 = [5,6,4]"
   ]
  },
  {
   "cell_type": "code",
   "execution_count": 142,
   "metadata": {},
   "outputs": [],
   "source": [
    "class ListNode:\n",
    "    def __init__(self, val=0, next=None):\n",
    "        self.val = val\n",
    "        self.next = next"
   ]
  },
  {
   "cell_type": "code",
   "execution_count": 146,
   "metadata": {},
   "outputs": [],
   "source": [
    "l1=None\n",
    "l2=None\n",
    "\n",
    "for x in reversed(list_l1):\n",
    "    l1=ListNode(x,l1)\n",
    "for x in reversed(list_l2):\n",
    "    l2=ListNode(x,l2)"
   ]
  },
  {
   "cell_type": "code",
   "execution_count": 76,
   "metadata": {},
   "outputs": [],
   "source": [
    "curr_tail=None\n",
    "carry=0\n",
    "final_out=None"
   ]
  },
  {
   "cell_type": "code",
   "execution_count": 77,
   "metadata": {},
   "outputs": [],
   "source": [
    "while list1 or list2:\n",
    "\n",
    "    sum_val=(list1.val if list1 else 0) +(list2.val if list2 else 0 )+carry\n",
    "    list1=list1.next if list1 else None\n",
    "    list2=list2.next if list2 else None\n",
    "    carry = sum_val//10\n",
    "    temp_node=ListNode(sum_val%10)\n",
    "    \n",
    "    if final_out is None:\n",
    "        final_out=temp_node\n",
    "        curr_tail=final_out\n",
    "    else:\n",
    "        curr_tail.next=temp_node\n",
    "        curr_tail=curr_tail.next\n",
    "\n",
    "if carry!=0:\n",
    "    curr_tail.next=ListNode(carry)"
   ]
  },
  {
   "cell_type": "code",
   "execution_count": 147,
   "metadata": {},
   "outputs": [],
   "source": [
    "tmp1,tmp2=l1,l2\n",
    "list1,list2,outlist=[],[],[]\n",
    "carry=0\n",
    "\n",
    "while tmp1:\n",
    "    list1.append(tmp1.val)\n",
    "    tmp1=tmp1.next\n",
    "    \n",
    "while tmp2:\n",
    "    list2.append(tmp2.val)\n",
    "    tmp2=tmp2.next\n",
    "\n",
    "while list1 or list2 or carry:\n",
    "    sum_val=(list1.pop() if list1 else 0) +(list2.pop() if list2 else 0 )+carry\n",
    "    carry = sum_val//10\n",
    "    outlist.append(sum_val%10)\n",
    "    \n",
    "final_out=None\n",
    "for x in outlist:\n",
    "    final_out=ListNode(x,final_out)\n",
    "    "
   ]
  },
  {
   "cell_type": "code",
   "execution_count": 149,
   "metadata": {},
   "outputs": [
    {
     "name": "stdout",
     "output_type": "stream",
     "text": [
      "7\n",
      "8\n",
      "0\n",
      "7\n"
     ]
    }
   ],
   "source": [
    "tree=final_out\n",
    "while tree:\n",
    "    print(tree.val)\n",
    "    tree=tree.next"
   ]
  },
  {
   "cell_type": "code",
   "execution_count": 122,
   "metadata": {},
   "outputs": [
    {
     "name": "stdout",
     "output_type": "stream",
     "text": [
      "5\n",
      "6\n",
      "4\n"
     ]
    }
   ],
   "source": [
    "while tree:\n",
    "    print(tree.val)\n",
    "    tree=tree.next\n",
    "    "
   ]
  },
  {
   "cell_type": "code",
   "execution_count": 124,
   "metadata": {},
   "outputs": [
    {
     "data": {
      "text/plain": [
       "[7, 0, 8, 7]"
      ]
     },
     "execution_count": 124,
     "metadata": {},
     "output_type": "execute_result"
    }
   ],
   "source": [
    "outlist"
   ]
  },
  {
   "cell_type": "code",
   "execution_count": 125,
   "metadata": {},
   "outputs": [
    {
     "name": "stdout",
     "output_type": "stream",
     "text": [
      "7\n",
      "8\n",
      "0\n",
      "7\n"
     ]
    }
   ],
   "source": [
    "while outlist:\n",
    "    lil1=ListNode(x,lil1)"
   ]
  },
  {
   "cell_type": "code",
   "execution_count": null,
   "metadata": {},
   "outputs": [],
   "source": []
  }
 ],
 "metadata": {
  "kernelspec": {
   "display_name": "Python 3",
   "language": "python",
   "name": "python3"
  },
  "language_info": {
   "codemirror_mode": {
    "name": "ipython",
    "version": 3
   },
   "file_extension": ".py",
   "mimetype": "text/x-python",
   "name": "python",
   "nbconvert_exporter": "python",
   "pygments_lexer": "ipython3",
   "version": "3.7.3"
  }
 },
 "nbformat": 4,
 "nbformat_minor": 4
}
