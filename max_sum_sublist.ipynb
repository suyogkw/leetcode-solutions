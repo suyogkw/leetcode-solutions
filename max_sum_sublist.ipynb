{
 "cells": [
  {
   "cell_type": "code",
   "execution_count": 15,
   "metadata": {},
   "outputs": [],
   "source": [
    "#https://leetcode.com/problems/maximum-subarray/"
   ]
  },
  {
   "cell_type": "code",
   "execution_count": 16,
   "metadata": {},
   "outputs": [],
   "source": [
    "arr=[-2,10,7,-5,15,6]\n"
   ]
  },
  {
   "cell_type": "code",
   "execution_count": 17,
   "metadata": {},
   "outputs": [],
   "source": [
    "#brute force\n",
    "min_global=max_global=0\n",
    "sum_global=0\n",
    "for i,x in enumerate(arr):\n",
    "    sum_local=0    \n",
    "    for j,y in enumerate(arr[i:]):\n",
    "        sum_local+=y\n",
    "        if sum_local>sum_global:\n",
    "            sum_global=sum_local\n",
    "            min_global,max_global=i,i+j\n"
   ]
  },
  {
   "cell_type": "code",
   "execution_count": 19,
   "metadata": {},
   "outputs": [
    {
     "output_type": "execute_result",
     "data": {
      "text/plain": [
       "(33, 1, 5)"
      ]
     },
     "metadata": {},
     "execution_count": 19
    }
   ],
   "source": [
    "sum_global,min_global,max_global\n"
   ]
  },
  {
   "cell_type": "code",
   "execution_count": 30,
   "metadata": {},
   "outputs": [],
   "source": [
    "#list ending at index method\n",
    "\n",
    "min_global=max_global=0\n",
    "min_local=max_local=sum_local=0\n",
    "sum_global=float('-inf')\n",
    "\n",
    "\n",
    "for i,x in enumerate(arr):\n",
    "    max_local=i\n",
    "    sum_local+=x\n",
    "    if sum_local>sum_global:\n",
    "        sum_global=sum_local\n",
    "        min_global,max_global=min_local,max_local\n",
    "    if sum_local<0:\n",
    "        min_local=max_local+1\n",
    "        sum_local=0\n",
    "    \n",
    "\n",
    "\n",
    "\n",
    "\n"
   ]
  },
  {
   "cell_type": "code",
   "execution_count": 31,
   "metadata": {},
   "outputs": [
    {
     "output_type": "execute_result",
     "data": {
      "text/plain": [
       "(33, 1, 5)"
      ]
     },
     "metadata": {},
     "execution_count": 31
    }
   ],
   "source": [
    "sum_global,min_global,max_global"
   ]
  },
  {
   "cell_type": "code",
   "execution_count": 32,
   "metadata": {},
   "outputs": [
    {
     "output_type": "stream",
     "name": "stdout",
     "text": [
      "[1]\n[1, 2]\n[1, 2, 3]\n"
     ]
    },
    {
     "output_type": "execute_result",
     "data": {
      "text/plain": [
       "[1, 2, 3]"
      ]
     },
     "metadata": {},
     "execution_count": 32
    }
   ],
   "source": []
  },
  {
   "cell_type": "code",
   "execution_count": null,
   "metadata": {},
   "outputs": [],
   "source": []
  }
 ],
 "metadata": {
  "kernelspec": {
   "name": "python3",
   "display_name": "Python 3.7.5 64-bit ('base': conda)"
  },
  "language_info": {
   "codemirror_mode": {
    "name": "ipython",
    "version": 3
   },
   "file_extension": ".py",
   "mimetype": "text/x-python",
   "name": "python",
   "nbconvert_exporter": "python",
   "pygments_lexer": "ipython3",
   "version": "3.7.5"
  },
  "interpreter": {
   "hash": "b3ba2566441a7c06988d0923437866b63cedc61552a5af99d1f4fb67d367b25f"
  }
 },
 "nbformat": 4,
 "nbformat_minor": 4
}