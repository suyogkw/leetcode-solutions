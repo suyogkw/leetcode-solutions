{
 "cells": [
  {
   "cell_type": "code",
   "execution_count": 1,
   "metadata": {},
   "outputs": [],
   "source": [
    "#https://leetcode.com/problems/number-of-wonderful-substrings/"
   ]
  },
  {
   "cell_type": "code",
   "execution_count": 81,
   "metadata": {},
   "outputs": [],
   "source": [
    "class Solution:\n",
    "    \n",
    "    def wonderfulSubstrings(self, word: str) -> int:\n",
    "        \n",
    "        letters=set(word)\n",
    "        letters_indexes={x:i for i,x in enumerate(letters)}\n",
    "        count_map=[[0]*(len(word)+1) for _ in range(len(letters))]\n",
    "        for i,x in enumerate(word):\n",
    "            ind=letters_indexes[x]\n",
    "            for j in range(len(letters)):\n",
    "                #python i-1=0 case handled as last element is zero anyways\n",
    "                count_map[j][i+1]=count_map[j][i] \n",
    "            count_map[ind][i+1]+=1\n",
    "        #window width\n",
    "        count=len(word) #window width=1\n",
    "        count+= 0 if len([ 1 for x in count_map if x[-1]%2==1])>1 else 1\n",
    "        for win_width in range(2,len(word)):\n",
    "            for win_end in range(win_width,len(word)+1):\n",
    "                count_temp=0\n",
    "                for m in count_map:\n",
    "                    count_temp+=(m[win_end]-m[win_end-win_width])%2\n",
    "                    if count_temp>1 :break\n",
    "                count+= 0 if count_temp>1 else 1\n",
    "        return count\n",
    "\n",
    "\n",
    "\n",
    "        \n",
    "\n",
    "        \n"
   ]
  },
  {
   "cell_type": "code",
   "execution_count": 14,
   "metadata": {},
   "outputs": [],
   "source": [
    "class Solution:\n",
    "    \n",
    "    def wonderfulSubstrings(self, word: str) -> int:\n",
    "        \n",
    "        letters=set(word)\n",
    "        letters_indexes={x:i for i,x in enumerate(letters)}\n",
    "        count_map=[0]*len(letters)\n",
    "        count=0\n",
    "        for i,x in enumerate(word):\n",
    "            ind=letters_indexes[x]\n",
    "            count_map[ind]+=1\n",
    "\n",
    "            rolling_countmap=count_map\n",
    "\n",
    "            for j in range(i+1):\n",
    "                #checking for substring j:i\n",
    "                count+=0 if len([m for m in rolling_countmap if m%2==1])>1 else 1\n",
    "                rolling_ind=letters_indexes[word[j]]\n",
    "                rolling_countmap[rolling_ind]-=1\n",
    "        return count"
   ]
  },
  {
   "cell_type": "code",
   "execution_count": 27,
   "metadata": {},
   "outputs": [
    {
     "output_type": "execute_result",
     "data": {
      "text/plain": [
       "'0b10000'"
      ]
     },
     "metadata": {},
     "execution_count": 27
    }
   ],
   "source": [
    "bin(0b1 << 4)"
   ]
  },
  {
   "cell_type": "code",
   "execution_count": 25,
   "metadata": {},
   "outputs": [],
   "source": [
    "class Solution:\n",
    "    \n",
    "    def wonderfulSubstrings(self, word: str) -> int:\n",
    "\n",
    "        #maximum possible states for 10 letters\n",
    "        already_reached=[0]*(2**10)\n",
    "        already_reached[0]=1\n",
    "        count=0        \n",
    "        state_mask=0\n",
    "        for i,x in enumerate(word):\n",
    "            ind=ord(x) - ord('a')\n",
    "            state_mask=state_mask ^ (1 << ind)\n",
    "            count+=already_reached[state_mask]\n",
    "            for j in range(11):\n",
    "                count+=already_reached[state_mask ^ (1 << j & 1023)]\n",
    "            already_reached[state_mask]+=1\n",
    "        return count\n",
    "        # count=0\n",
    "        # #!(bits & (bits-1)) if none or only one is odd\n",
    "        # for i in range(len(word)):\n",
    "        #     start_bits=count_bitmaps[i]\n",
    "        #     for j in range(i,len(word)):\n",
    "        #         end_bits=count_bitmaps[j+1]\n",
    "        #         bits=start_bits^end_bits\n",
    "        #         count+=1 if not (bits & (bits-1)) else 0\n",
    "        # return count"
   ]
  },
  {
   "cell_type": "code",
   "execution_count": 26,
   "metadata": {},
   "outputs": [
    {
     "output_type": "execute_result",
     "data": {
      "text/plain": [
       "395046"
      ]
     },
     "metadata": {},
     "execution_count": 26
    }
   ],
   "source": [
    "s=Solution()\n",
    "s.wonderfulSubstrings(\"ihgchcaeaiedbhcihjaifihfjhgafiejbbjhiiaajcejbibdcghhcichdbcccbadegeihhbjfhfgggajiafabceedjdaejhagabjdifehjfichjgedegcaajajdbaccjhdaaccgajchgegffigjaicadfgfahicjjcajjafahehhfecffjjjdgaagfagfaefcegjighbbacjedcjcjhefdihddjbiaidjejgfhbbacefdcgibabihhfeeaaahhchigafafacgigbjdghjejceehacigfghecjichbcajiacefciiffdddhifgbeeiffhbfbggaaibeajjicfiebeddhacffhhgeagbgececcbddfcjacdjeeabcabcijeaicahgijgcaeicfjhfahjajjbceiddifagjecbefgfcghhhdicdiefdjdfhgdihabfcdbcfgajghhhjdbgcabaigigbadfbabhhjhdbdegicahbgedaeefjacjeaegbgaicdbbjgjiiiaefabjchafcdeibdfehbcgbheaagfhfdbiagjjegdajgidifahfbdaiaifhgegefbbjiaghgdiaejiibdagdhifcghgfihegbaacffgaedeihdcajacgjhejdedaagjggjjiaedcfchbbiaeeibajdjfaciibdbeghbbgfjeifbfbjciefgdfjahbacaejaibcfbccbgebajcegcfaigfibddhjijbihcaaafdagjfbbfcijfdgiebghaahdaehbjdggfbidhehaicfadfbfgafjabgabfabaeddbfajhjijajcjbeeefehgcfdijhifcgiaejgcagijjibceahggibadghacdiabaedidgfjaggjgghbgidbfgafghadjejediibdgjdidefbbiaecjeicehihicdaaiahjibeiehdfidbhbhfaihhgfdccejgheifbjdbfgcjbidiffgdjijgghffibcbaaihefhigdfhgjeghfcjedgdicjchcjggbfijejfbdaaicefdeaejfcfjjaebhehidgfhiagieieihbbijhdeaidjgecgbcebeafdhaiecfgajcbafiiccfjjjhjfghihcgaahibdffabgbaciaijgccbgibdadjeehbabfjffcfheccchdejcfcdefdjagiidghggahfddjiaiddfdijeejjfabdacibafgiedddajcgeeafbhajhhbjcechgbijehdcfbaedjcbbceijiaiecjjjddegjfeidabiheeaaechfjdjficeadjdegihegfafhgbjdheabhadfagfhfjjdcjgdghijeggiifedjchadfcaccbgjfehifehjahiccedcfdbdfbbfiafaeijjhheeeigcbibgabbgiagaffdjjbfbbhbgffbcjciebdigghhfjebfacgbhfbgjggabcahecjcfjhbccjdhjhbbfiegfgbfggbbjjgadggibhegbcechdgbdjgicgebcagcfdhdabjefebfhciicedaghdfjcagdcigihdjhahgbidhgjaegfbcggdhigfjgbifjagddfaibgaejfgicidfcdihdcaajhheiabiacdhbaihabdbfbgacjaeaghiabijjdccddfbdiijeffiaaffbgjgjegbfbiecifacihbibhbfegaefhedegffdgdfdcgiadfhbaebjgiiehebbifgbhfehbfgagjfjacidehfcjbccbchhieciaceaicedehiejidjaggefjfbaigaahefdbhbdbigfhdefgeidcgjddhggfcdbfhabcijchbfedjdfjaijffbiefjbdadjcaggeghaacijjgiiicihcbhfafhbadjadigaidadjghijigaegjgaeffdbbiaffghjihcgebdhgdhghjiiadejgghfgddgdefaaifghjajbdjfjefeadadadccedjjdchbjgcjifbhihdhbaihigijbijhbhfjgffjhbdehjjifcjhcacjjcjfghdibifjgcfhadiifieaciaejjdieadichbiiajcfgaeibfiiiibhhfhecfbebbhhicegabcjjgbhiacbhehgjfdaihgigabffhfbdaibgehiibjjfdijfhcgbcbjafdjddccgiiiadcdjjjaaccdighghgdebejbihicgbegcijcegchhdfijffdadbcjdigfbjgeiageddhcgefbdbahjjcfbcejedfgbcgiafaedgbiheifigahbicejhhcbcfcddadeihhchceigidfcagdjfgcbccgcabbibjeaceibfcjiafaajjdecibefgfhcgeedeibiacjgfgbiecbdifecgjajeicbiffdijcfjhgdbfaegdicigdajeebjdaidjeiagffdiijdgbabfcebjadacihjafbgaiaafgdgcihbegchibhhijgjccefgggigddfihjjdijhieceijjcgiibeihgbjeagdfdchhedjjdcfbbeicfdggfediiiaaejjjcagiiejcgijfbjfahgefffegcaccabcegdihighiffhcijcaigiheebjiggbhhbijcdjgdefcdjjicbahgiihijdejhjdbjfgdaafahcigfjjdbahhjicbgfjfcfeaihcfcecggefbggbagbjiadhdejagedhbajdhbdbebcfcfchdefabjcfdjhbgbidfghgdhajibjcchdbcafcahdieigfefebdajddbefbdghbcieeehfeifdbagfiaicbeghiafbgacegajjadbiedfjiijbeeagdaedfijicbjbhbffjgcbebjbjffdgddjjfeeaheheegbjihgfddcicbadaaehhgcjcfhidiedddjbabdcjdhbdjcciehdibdiijdihdicebiaeddjadaegdgehebdigchajeddiaiiahdiajffhdffjddaghacacacaicbaeebjgcecededfccabeegfbfbceajccjgdbedbehcedchjcjfdgiacjdbghefiehidcfbdehhcdgjbcibbahhiehhcfibgehjghbbgdhaedhfciejabcjbfihedcehfjcgdghcecbbggaecbeicdjiebgccjhfcdihjdgbigjdffdecahagichbfchfdgajegcaedjbjidaaheicfidhjbhbgehjbgcjabfegbgegbbccjjdiahhjejeabfjegbhjiafcgijhgiicgdadejcjfjheejhefaaahifdafaiebcjfecgbcibjbghdbidfhaafcbeicibdheahfjhbfdhfggebfaeeiaccbdhdbecfhfaigjjiihchccgbghcdfaiffachhejceiheadagiihfgiaffbfdecbjfjjfecfcicidhjijeeggcjdefjbbiieagjbffggiggafijdcjeeibghegciihafjjcgdcecefjccfgbigehhdicejceahechabfheffbhajgdceibbjaccehhjjjaacbdaadadhajahghhdbihdfjeeehbcfegaggdbeggbaidefiibbdfhffcccbhighhbbccfijaffdacdfcahbaeeghddedbdchgddjhigbggejdejjbchecbcfbcacfhdfbghcahefecfgfffdccdeeeajiaajiechgbaibbffdcgfiejehigbabafeadgbdjcgbhfiihcfdcidcbcffacaihjefcifdbcijabjfbhgbiiafiibfgbfdcgghideaedfccjijifficaegdcbcdebhfbgeigbegjdhjehabieajdjfdibfccaffadajbadheabbjgehafeeejehahbbehffbdcgefebffihbhdfbgiaibceeedhdjfhhbiebhhhccccjihiijgfifjhfifacjdahdaiiicehibfbgeabefjdeeiebhbchdiaihdejfbgbgjijjgcbafibiahhdeddfhfifbfchdbfhhdhcjhajabjgajibbefehfachecejfceeejiieddgieiaijidjjjjihhcejedfaahfghibbhfegbghciijeehigbedccdjeghafgdajehbifdiihcfidfgjebfcgfdeiahheifbgbfjcfijhgijdbhjhifhhghfecafhebabgfgdbdfdgddgfeejceaejbgaejihcjihggbgccgebjdagjjbiefjccechefebghdechiecaiifibjgbeffehddgcjdggcbjebdaicbcadefebbgebicdhghhcfhidhcejhcbgachdhibggidajceghhfichdicddhabdhjigagbhdghbigdiijfiiaieeegegibbejjabfcifjbbecibbeibdicadfbbcjaiiajejbjdgibbgeffhecgfhfgahichijdhbbeiajdcjeajgbeccdhegcedbdbcebfcabfgheiaiehgegidgbahbgabddbhiijdecdhhdcgjbhgiegafjgghcjcafdieecffbiifiedciaffcjgfbecdafbhcajbafabgjbgcajfifchdbhbicbifcbghgjcjhjfifjadchjcifhbihgcfiaeaiegcdddjgceheifefcabaeiaaiibiabdabjiaejchhahgdbacgiahfbbcggciefgjfdahfcgfcaahigddcdddjfebhjbicffgdgjgehfbahcebffbcdehjjceccejbceejfgajjjhagiaicfdhcijchjfdbebjicgdhehigdcebgfigdhibhjgegfhijgjjajgbejijajaaaejcaafjffdjejihggcheegcjaihgcagjjihcjeccdhgaccedbajejifihehjababcigaehaibaaiejgdheieiebafifejicjgbjdhcgdibadceijahdedhiaeafbbhddahbdfhcgefcicghdhjifhgfbifcedaheefjdejhggdbdgacjgibfabigiajjcaceafjiadicbbcgjhehbhcehcbdiaeijdgifhaghggdfcibjhicciijaeiffgbbjabddfjaedahafeehjhifdedgjjafbjaadihcbjfhjgjhgbdfdeciieibecjdfcbejfadccjdafbffhcabbcfeadadeegjihjgijgeihdejeeedjhcffihadiiagfiijejdbbgghebfdhacjhjjdbaieibbidjhjchhcgedfjcjcjedeajchcebfccagfeeiafhccfjaeibghhgacheacghhihgahagidgahibdhgdafbiegbjhjabeibhjeejhchhaacffhabbbebibaejajieibbfhjfieheibahhehfjjadeieecihibchcgbcehfjbfhhgiibdhhjfgahiiebaihhciiifbcejbidjjiebfjjahbafbaeiajgbjecgiigecfejjahecjgiegdhcjijbbfdjhjbigfedgbijebcghaaiffihaffcabefddfhjgghchchdfffcbaijefeggahficiggjhebffeeiccbfcdeefdfijgagfgaahbfjjabcgdhcjfaijcggcgfecccfbhbihaifiedhbdcaiadgfeeeggcefbadifibfaeabfdecfhchccbeabjifbccafcjbghfdjbciacfjbidhfccjghdcefeaehcbeebjhdefibgijadbbghiddahjgdcjhhcebbbfiibfeaeibjaaiaigegeedfdefhdeagabjgdjfbicejjaaibejbbffbfgbjgjdjeajadffgbeedafdihfhdgcgbccjfijdiffihcggcbhbjggabagijhifdedgcacdfhbjbhjgejhgiijcjjebbjciaabeaiadhajbbddagggijcjadijfcdadibebjhicfdffjcbifegccgbadedfefhegfeadeiiddiagbiedajdgbbiidieghjhbbbieacjcafgigaecihbchciiaagigjadbffbeahjcbfbhgdcbfjbjicigeacajfhgeigiebdhjdiehbbfghbaifgaeceifjaedjaibjbhihidjddigbjcigdhejiiifgafhhgcdciceihbbifibghddejdahijijchfdcebjajjbiajjfbjfcgjbeidfeegibieceahdbahdiaaehcdgdbigbdcdfecbigjifjaegcgjhegfgjcihdgijjfjfghdbffhdibehjdcjcfbejfffagjacaiigjabahbgeggieediibfdbjhdgbheaaaicidffahdfbhicicgdfiibijdigcfaigbddabibgacjffgbacgjaibghaehfegaejhffbffjejfihgdjjjdifgjgefhdadddhhabdgddhhgdificjbehjigjdijhijfgbaeefgfgbffidcbfiahfficjihahegabhdaahbaecjajgddcjiaajfahaicidbicefbiedachaaijebcjafeaafffhcjaehhigbaehdahiafidaghhijjacbbbcaeaefddhhddegabdfdahjjhjdjfhbjjeiicaeadheedggcjegjaabhcbdcebjfhaijijjacbefdfcfdihgiebijbiecdeghibbgfighbcebdaijgiajiaiefdjejidcihifjhfdgbfibfhbccgihcbcifdjheghbigggeeefgjgcchaiijgcijibiebddidaehedfbbegfdbbjedeaihcggafafhdhijjbaebcchbbjgfdadeahifjejibbhicgeiaeggbegjfejcfggggdafieijfbicbfeiadafdgedcfdiaihhggahfgiidagahecjgeidhgdghiagcadcjbgjiedaedjgjhdcfcahedbccajcdjiccdcajibbehfidaabijehdcicbiicejebigjijaiagffcadfiijdhbijachaigaaehcijebabjahaiibfiijaaihahjfjifjfihdffdehbjchejdacdbcdccfccgcjfafdefedigeebdeghecjaajedehfhaefaffibdcgbfihjifdccahbeacciehacddeaadbcgiggjggaibecidgdgejachhghdihccgccedjfcjaedhehijfbbifjedggadfhiefefbedccjeahccifhhgbaccecedibhbddgfbbbaefecgdjddhdfdhdbgdbeddedieajbjcdfecegiijfecfjcgichjbagecchfcbighhefdedcggeedcdbbjbabhegbffcgegcdebdbebhibccdjbgjbadhjdgcaejdcbdedjjjhjfjddgchcbidhieeeeaiegcbafbajahifcicjibacafjhifbihgjafheffbfbefafagiacgbgdgcdfccchdbggcjechagdehbedbbifegabdgejccabhiijjgiedfighafgbjaagebbbjgdafjcebcjefiighgjbifcjddhgdbjibehhacefbhabebahadbidcfabiihbjjjegfeaacffggdijhjdhghgaddggfbfeihhddjjiefbbdfiebaacgbegdcjbdjjffacdaehfdbfdahejadfecidafbiefjejbageafgijeeafjaebaiejgjifbchgfeebabegcjgfeicjjejjdfedggiahaiecjidebhdejijbjhjijajacdihhebegahijifhggidbgbijdajaeaeeedhcibcjcajfhccdjedcdibfccdbcciiehchiffhhacfbjhjbdidecjjeadafbfiffgbejddghfehafjfebhabagjdfidggiidcieeijhdjfadbaigejaajeehjabfcaeicebfjhbccgdgddcegdjgdeiifdjbcfgfbjfccbdfhadgeihcdbccifcibbjdffdaibeffehajdhieihideaffeaiffjbcgefjficifeffiaegghfigeafhcaahja\")"
   ]
  },
  {
   "cell_type": "code",
   "execution_count": 15,
   "metadata": {},
   "outputs": [
    {
     "output_type": "execute_result",
     "data": {
      "text/plain": [
       "1024"
      ]
     },
     "metadata": {},
     "execution_count": 15
    }
   ],
   "source": [
    "2**10"
   ]
  },
  {
   "cell_type": "code",
   "execution_count": null,
   "metadata": {},
   "outputs": [],
   "source": []
  }
 ],
 "metadata": {
  "kernelspec": {
   "name": "python3",
   "display_name": "Python 3.7.5 64-bit ('base': conda)"
  },
  "language_info": {
   "codemirror_mode": {
    "name": "ipython",
    "version": 3
   },
   "file_extension": ".py",
   "mimetype": "text/x-python",
   "name": "python",
   "nbconvert_exporter": "python",
   "pygments_lexer": "ipython3",
   "version": "3.7.5"
  },
  "interpreter": {
   "hash": "b3ba2566441a7c06988d0923437866b63cedc61552a5af99d1f4fb67d367b25f"
  }
 },
 "nbformat": 4,
 "nbformat_minor": 4
}