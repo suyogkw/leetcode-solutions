{
 "cells": [
  {
   "cell_type": "code",
   "execution_count": 45,
   "metadata": {},
   "outputs": [],
   "source": [
    "# Given the head of a linked list, remove the nth node from the end of the list and return its head.\n",
    "# Follow up: Could you do this in one pass?\n",
    "# Example 1:\n",
    "# Input: head = [1,2,3,4,5], n = 2\n",
    "# Output: [1,2,3,5]"
   ]
  },
  {
   "cell_type": "code",
   "execution_count": 1,
   "metadata": {},
   "outputs": [],
   "source": [
    "head = [1,2,3,4,5]\n",
    "n = 2"
   ]
  },
  {
   "cell_type": "code",
   "execution_count": 2,
   "metadata": {},
   "outputs": [],
   "source": [
    "counter=-n-1\n",
    "p=q=head\n",
    "while(p.next):\n",
    "    counter+=1\n",
    "    if counter>0:q=q.next\n",
    "if counter<0:return None\n",
    "q.next=q.next.next\n",
    "return head"
   ]
  },
  {
   "cell_type": "code",
   "execution_count": 80,
   "metadata": {},
   "outputs": [
    {
     "name": "stdout",
     "output_type": "stream",
     "text": [
      "outer : (0, 0, [[5, 1, 9, 11], [2, 4, 8, 10], [13, 3, 6, 7], [15, 14, 12, 16]])\n",
      "0 0 0 [[15, 1, 9, 5], [2, 4, 8, 10], [13, 3, 6, 7], [16, 14, 12, 11]]\n",
      "0 1 0 [[15, 13, 9, 5], [2, 4, 8, 1], [12, 3, 6, 7], [16, 14, 10, 11]]\n",
      "0 2 0 [[15, 13, 2, 5], [14, 4, 8, 1], [12, 3, 6, 9], [16, 7, 10, 11]]\n",
      "outer : (1, 1, [[15, 13, 2, 5], [14, 4, 8, 1], [12, 3, 6, 9], [16, 7, 10, 11]])\n",
      "1 1 1 [[15, 13, 2, 5], [14, 3, 4, 1], [12, 6, 8, 9], [16, 7, 10, 11]]\n"
     ]
    }
   ],
   "source": []
  },
  {
   "cell_type": "code",
   "execution_count": 76,
   "metadata": {},
   "outputs": [
    {
     "data": {
      "text/plain": [
       "[[15, 13, 2, 5], [14, 4, 3, 1], [12, 8, 6, 9], [16, 7, 10, 11]]"
      ]
     },
     "execution_count": 76,
     "metadata": {},
     "output_type": "execute_result"
    }
   ],
   "source": [
    "matrix"
   ]
  },
  {
   "cell_type": "code",
   "execution_count": 43,
   "metadata": {},
   "outputs": [
    {
     "data": {
      "text/plain": [
       "[]"
      ]
     },
     "execution_count": 43,
     "metadata": {},
     "output_type": "execute_result"
    }
   ],
   "source": [
    "list(range(1,1))"
   ]
  },
  {
   "cell_type": "code",
   "execution_count": null,
   "metadata": {},
   "outputs": [],
   "source": []
  },
  {
   "cell_type": "code",
   "execution_count": 42,
   "metadata": {},
   "outputs": [],
   "source": [
    "number = -123450\n"
   ]
  },
  {
   "cell_type": "code",
   "execution_count": 43,
   "metadata": {},
   "outputs": [],
   "source": []
  },
  {
   "cell_type": "code",
   "execution_count": 44,
   "metadata": {},
   "outputs": [],
   "source": [
    "negative = -1 if number<0 else 1\n",
    "number = abs(number)\n",
    "reverse=0\n",
    "while number!=0:\n",
    "    reverse=reverse*10+number%10\n",
    "    number//=10\n",
    "reverse*=negative\n",
    "\n",
    "if (reverse > 2 ** 32) or (reverse > (2 ** 32)-1 and not negative):\n",
    "    reverse=0"
   ]
  },
  {
   "cell_type": "code",
   "execution_count": 47,
   "metadata": {},
   "outputs": [
    {
     "data": {
      "text/plain": [
       "4294967296"
      ]
     },
     "execution_count": 47,
     "metadata": {},
     "output_type": "execute_result"
    }
   ],
   "source": [
    "2 ** 32"
   ]
  },
  {
   "cell_type": "code",
   "execution_count": 48,
   "metadata": {},
   "outputs": [
    {
     "data": {
      "text/plain": [
       "1563847412"
      ]
     },
     "execution_count": 48,
     "metadata": {},
     "output_type": "execute_result"
    }
   ],
   "source": [
    "1563847412"
   ]
  },
  {
   "cell_type": "code",
   "execution_count": 49,
   "metadata": {},
   "outputs": [
    {
     "data": {
      "text/plain": [
       "True"
      ]
     },
     "execution_count": 49,
     "metadata": {},
     "output_type": "execute_result"
    }
   ],
   "source": [
    "4294967296>2147483651"
   ]
  },
  {
   "cell_type": "code",
   "execution_count": null,
   "metadata": {},
   "outputs": [],
   "source": []
  }
 ],
 "metadata": {
  "kernelspec": {
   "display_name": "Python 3",
   "language": "python",
   "name": "python3"
  },
  "language_info": {
   "codemirror_mode": {
    "name": "ipython",
    "version": 3
   },
   "file_extension": ".py",
   "mimetype": "text/x-python",
   "name": "python",
   "nbconvert_exporter": "python",
   "pygments_lexer": "ipython3",
   "version": "3.7.3"
  }
 },
 "nbformat": 4,
 "nbformat_minor": 4
}
