{
 "cells": [
  {
   "cell_type": "code",
   "execution_count": 1,
   "metadata": {},
   "outputs": [],
   "source": [
    "#https://leetcode.com/problems/roman-to-integer/\n",
    "#https://leetcode.com/problems/integer-to-roman/"
   ]
  },
  {
   "cell_type": "code",
   "execution_count": 3,
   "metadata": {},
   "outputs": [],
   "source": [
    "romans={'I':1,'V':5,'X':10,'L':50,'C':100,'D':500,'M':1000}"
   ]
  },
  {
   "cell_type": "code",
   "execution_count": 29,
   "metadata": {},
   "outputs": [
    {
     "output_type": "stream",
     "name": "stdout",
     "text": [
      "1743\n"
     ]
    }
   ],
   "source": [
    "s='MDCCXLIII'\n",
    "num=0\n",
    "i=0\n",
    "while i<len(s):\n",
    "    if i<len(s)-1 and romans[s[i]]<romans[s[i+1]]:\n",
    "        num+=romans[s[i+1]]-romans[s[i]]\n",
    "        i+=2\n",
    "    else:\n",
    "        num+=romans[s[i]]\n",
    "        i+=1\n",
    "print(num)"
   ]
  },
  {
   "cell_type": "code",
   "execution_count": 5,
   "metadata": {},
   "outputs": [],
   "source": []
  },
  {
   "cell_type": "code",
   "execution_count": 28,
   "metadata": {},
   "outputs": [],
   "source": [
    "#thousands\n",
    "#fivehundreds\n",
    "#hundreds\n",
    "#fifties\n",
    "#tens\n",
    "#fives\n",
    "#ones\n",
    "        "
   ]
  },
  {
   "cell_type": "code",
   "execution_count": 38,
   "metadata": {},
   "outputs": [],
   "source": [
    "romans={'I':1,'V':5,'X':10,'L':50,'C':100,'D':500,'M':1000}\n",
    "anti_romans={1: 'I', 5: 'V', 10: 'X', 50: 'L', 100: 'C', 500: 'D', 1000: 'M',4:'IV',9:'IX',40:'XL',90:'XC',400:'CD',900:'CM'}\n",
    "divis=sorted(list(anti_romans.keys()))\n",
    "divis.reverse()\n",
    "\n",
    "out=''\n",
    "for x in divis:\n",
    "    out+=(remainder//x)*anti_romans[x]\n",
    "    remainder%=x"
   ]
  }
 ],
 "metadata": {
  "kernelspec": {
   "name": "python3",
   "display_name": "Python 3.7.5 64-bit ('base': conda)"
  },
  "language_info": {
   "codemirror_mode": {
    "name": "ipython",
    "version": 3
   },
   "file_extension": ".py",
   "mimetype": "text/x-python",
   "name": "python",
   "nbconvert_exporter": "python",
   "pygments_lexer": "ipython3",
   "version": "3.7.5"
  },
  "interpreter": {
   "hash": "b3ba2566441a7c06988d0923437866b63cedc61552a5af99d1f4fb67d367b25f"
  }
 },
 "nbformat": 4,
 "nbformat_minor": 4
}